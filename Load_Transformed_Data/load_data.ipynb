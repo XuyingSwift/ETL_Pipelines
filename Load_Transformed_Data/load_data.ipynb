{
 "cells": [
  {
   "cell_type": "code",
   "execution_count": 5,
   "id": "66bf87a7-5189-4be5-b7c9-124e1c4d3bcf",
   "metadata": {},
   "outputs": [],
   "source": [
    "import sqlite3"
   ]
  },
  {
   "cell_type": "code",
   "execution_count": 6,
   "id": "c3b7d95e-8c2a-4617-bf0f-3bf48b91be91",
   "metadata": {},
   "outputs": [],
   "source": [
    "# demo data\n",
    "laundry_mat_data = [\n",
    "    {\"product\": \"Detergent\", \"dollar_price_per_unit\": 4.5, \"quantity\": 100, \"total_cost\": 200},\n",
    "    {\"product\": \"Dryer Sheets Box\", \"dollar_price_per_unit\": 3.5, \"quantity\": 100, \"total_cost\": 350},\n",
    "    {\"product\": \"Washing Machine\", \"dollar_price_per_unit\": 400, \"quantity\": 25, \"total_cost\": 10000},\n",
    "    {\"product\": \"Dryer\", \"dollar_price_per_unit\":400, \"quantity\": 25, \"total_cost\": 10000},\n",
    "]"
   ]
  },
  {
   "cell_type": "markdown",
   "id": "09fcf540-500d-4c26-915b-20f594b0728e",
   "metadata": {},
   "source": [
    "FULL DATA LOAD"
   ]
  },
  {
   "cell_type": "code",
   "execution_count": 11,
   "id": "134ad425-8ce5-4964-9009-d28f0ec2f1cf",
   "metadata": {},
   "outputs": [],
   "source": [
    "def perform_full_data_load(laundry_mat_data):\n",
    "    conn = sqlite3.connect(\"laundry_mat.db\")\n",
    "    cursor = conn.cursor()\n",
    "\n",
    "    # Check if the table exists and create it if it does not\n",
    "    cursor.execute(\"\"\"CREATE TABLE IF NOT EXISTS laundry_mat\n",
    "                      (product TEXT, dollar_price_per_unit REAL, quantity INTEGER, total_cost REAL)\"\"\")\n",
    "\n",
    "    # Trucate the existing data\n",
    "    cursor.execute(\"DELETE FROM laundry_mat\")\n",
    "\n",
    "    # Insert new data\n",
    "    for record in laundry_mat_data:\n",
    "        cursor.execute(\"INSERT INTO laundry_mat (product, dollar_price_per_unit, quantity, total_cost) VALUES (?, ?, ?, ?)\",\n",
    "                       (record[\"product\"], record[\"dollar_price_per_unit\"], record[\"quantity\"], record[\"total_cost\"]))\n",
    "    conn.commit()\n",
    "    conn.close()"
   ]
  },
  {
   "cell_type": "code",
   "execution_count": 12,
   "id": "b149ecb5-d7b4-4dc2-a7f3-5612c653f94c",
   "metadata": {},
   "outputs": [],
   "source": [
    "perform_full_data_load(laundry_mat_data)"
   ]
  },
  {
   "cell_type": "code",
   "execution_count": null,
   "id": "15dff373-062d-439f-b9c0-bd6723edc3b2",
   "metadata": {},
   "outputs": [],
   "source": [
    "def perform_incremental_data_load(laundry_mat_data):\n",
    "    conn = sqlite3.connect(\"laundry_mat.db\")\n",
    "    cursor = conn.cursor()\n",
    "\n",
    "    # insert new data if the product doesn't already exist\n",
    "    for record in laundry_mat_data:\n",
    "        cursor.execute(\"INSERT OR IGNORE INTO laundry_mat (product, dollar_price_per_unit, quantity, total_cost) VALUES (?, ?, ?, ?)\",\n",
    "                       (record[\"product\"], record[\"dollar_price_per_unit\"], record[\"quantity\"], record[\"total_cost\"]))\n",
    "    conn.commit()\n",
    "    conn.close()"
   ]
  },
  {
   "cell_type": "code",
   "execution_count": null,
   "id": "8906d3fc-bdde-4cb1-b076-caefa7e35018",
   "metadata": {},
   "outputs": [],
   "source": [
    "def perform_incremental_data_load(laundry_mat_data):\n",
    "    conn = sqlite3.connect(\"laundry_mat.db\")  # Connect to the database\n",
    "    cursor = conn.cursor()\n",
    "\n",
    "    # Insert new data (if the product doesn't already exist)\n",
    "    for record in laundry_mat_data:\n",
    "        cursor.execute(\"INSERT OR IGNORE INTO laundry_mat (product, dollar_price_per_unit, quantity, total_cost) VALUES (?, ?, ?, ?)\",\n",
    "                       (record[\"product\"], record[\"dollar_price_per_unit\"], record[\"quantity\"], record[\"total_cost\"]))\n",
    "\n",
    "    conn.commit()\n",
    "    conn.close()"
   ]
  }
 ],
 "metadata": {
  "kernelspec": {
   "display_name": "Python 3 (ipykernel)",
   "language": "python",
   "name": "python3"
  },
  "language_info": {
   "codemirror_mode": {
    "name": "ipython",
    "version": 3
   },
   "file_extension": ".py",
   "mimetype": "text/x-python",
   "name": "python",
   "nbconvert_exporter": "python",
   "pygments_lexer": "ipython3",
   "version": "3.11.6"
  }
 },
 "nbformat": 4,
 "nbformat_minor": 5
}
